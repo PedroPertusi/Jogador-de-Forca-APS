{
 "cells": [
  {
   "cell_type": "code",
   "execution_count": 8,
   "metadata": {},
   "outputs": [],
   "source": [
    "from jogador_forca import JogoDeForca\n",
    "import string\n",
    "from pprint import pprint"
   ]
  },
  {
   "cell_type": "code",
   "execution_count": 32,
   "metadata": {},
   "outputs": [],
   "source": [
    "def huffman_tree_probability(texto : str):\n",
    "    \"\"\"Calcula as probabilidades usadas para a montagem da arvore de codificacao usando o algoritmo de huffman\"\"\"\n",
    "    f = []\n",
    "\n",
    "    # Calcula probabilidade de cada caractere  \n",
    "    texto = \"\".join(texto)\n",
    "    for c in string.ascii_lowercase:\n",
    "        f.append(  {'prob':texto.count(c)/len(texto), 'valor':c} )\n",
    "\n",
    "    return f"
   ]
  },
  {
   "cell_type": "code",
   "execution_count": 33,
   "metadata": {},
   "outputs": [],
   "source": [
    "def match_pattern(lst, s):\n",
    "    \"\"\"Compara padrão da lista de characteres corretos da forca (lst) com a string e retorna True se padrão igual e False caso o contrário\"\"\"\n",
    "    if len(lst) != len(s):\n",
    "        return False\n",
    "    for i, char in enumerate(lst):\n",
    "        if char != \"\" and char != s[i]:\n",
    "            return False\n",
    "    return True"
   ]
  },
  {
   "cell_type": "code",
   "execution_count": 36,
   "metadata": {},
   "outputs": [],
   "source": [
    "def jogar_forca(vezes=1,palavra=None):\n",
    "    jogo = JogoDeForca()\n",
    "    erros = 0\n",
    "    acertos = 0\n",
    "    palavras_acertadas = []\n",
    "    palavras_erradas = []\n",
    "    for i in range(vezes):\n",
    "        jogo.novo_jogo(palavra=palavra)\n",
    "        acabou = False\n",
    "        result_c = False\n",
    "        letras = ['' for _ in range(len(jogo.palavra))]\n",
    "        ja_tentou = []\n",
    "        while not acabou:\n",
    "            if not result_c:\n",
    "                if len(ja_tentou) == 0 and letras.count('') == len(jogo.palavra):\n",
    "                    texto = [i for i in jogo.content if len(i) == len(jogo.palavra)]\n",
    "                    result_c = huffman_tree_probability(texto)\n",
    "                    result_c.sort(reverse=True, key=lambda x: x['prob'])\n",
    "                else:\n",
    "                    texto = [i for i in texto if match_pattern(letras, i) and i not in ja_tentou]\n",
    "                    result_c = huffman_tree_probability(texto)\n",
    "                    result_c.sort(reverse=True, key=lambda x: x['prob'])\n",
    "\n",
    "            for h in result_c:\n",
    "                if h['valor'] not in ja_tentou and h['valor'] not in letras:\n",
    "                    r = jogo.tentar_letra(h['valor'])\n",
    "                    if jogo.vidas == 0:\n",
    "                        ja_tentou.append(h['valor'])\n",
    "                        erros += 1\n",
    "                        acabou = True\n",
    "                        palavras_erradas.append({\"palavra\":jogo.palavra,\"letras chutadas\": {\"letras erradas\": ja_tentou, \"letras certas\": letras}})\n",
    "                    else:\n",
    "                        if len(r) > 0:\n",
    "                            for j in range(len(r)):\n",
    "                                letras[r[j]] = h['valor']\n",
    "                        else:\n",
    "                            ja_tentou.append(h['valor'])\n",
    "                    result_c = False\n",
    "                    break\n",
    "                \n",
    "            if '' not in letras:\n",
    "                x = jogo.tentar_palavra(\"\".join(letras))\n",
    "                if x:\n",
    "                    acertos += 1\n",
    "                    palavras_acertadas.append({\"palavra\":jogo.palavra,\"letras chutadas\": {\"letras erradas\": ja_tentou, \"letras certas\": letras}})\n",
    "                else:\n",
    "                    erros += 1\n",
    "                acabou = True\n",
    "                \n",
    "    #retorna um dicionário com o numéro de acertos e erros, as palavras acertadas e erradas com cada uma dela contendo o chute de letras (tanto letras acertadas quanto erradas) \n",
    "    return {\"acertos\":acertos,\"erros\":erros, \"palavras acertadas\":palavras_acertadas, \"palavras erradas\":palavras_erradas}"
   ]
  },
  {
   "cell_type": "code",
   "execution_count": 37,
   "metadata": {},
   "outputs": [
    {
     "name": "stdout",
     "output_type": "stream",
     "text": [
      "{'acertos': 90, 'erros': 10, 'palavras acertadas': [{'palavra': 'discorrias', 'letras chutadas': {'letras erradas': [], 'letras certas': ['d', 'i', 's', 'c', 'o', 'r', 'r', 'i', 'a', 's']}}, {'palavra': 'desapontado', 'letras chutadas': {'letras erradas': [], 'letras certas': ['d', 'e', 's', 'a', 'p', 'o', 'n', 't', 'a', 'd', 'o']}}, {'palavra': 'sobressaltem', 'letras chutadas': {'letras erradas': ['i'], 'letras certas': ['s', 'o', 'b', 'r', 'e', 's', 's', 'a', 'l', 't', 'e', 'm']}}, {'palavra': 'desvirtuaram', 'letras chutadas': {'letras erradas': ['o', 'g', 'b'], 'letras certas': ['d', 'e', 's', 'v', 'i', 'r', 't', 'u', 'a', 'r', 'a', 'm']}}, {'palavra': 'promulgadas', 'letras chutadas': {'letras erradas': ['e'], 'letras certas': ['p', 'r', 'o', 'm', 'u', 'l', 'g', 'a', 'd', 'a', 's']}}, {'palavra': 'desferissemos', 'letras chutadas': {'letras erradas': ['a'], 'letras certas': ['d', 'e', 's', 'f', 'e', 'r', 'i', 's', 's', 'e', 'm', 'o', 's']}}, {'palavra': 'discarieis', 'letras chutadas': {'letras erradas': [], 'letras certas': ['d', 'i', 's', 'c', 'a', 'r', 'i', 'e', 'i', 's']}}, {'palavra': 'proviesseis', 'letras chutadas': {'letras erradas': ['a'], 'letras certas': ['p', 'r', 'o', 'v', 'i', 'e', 's', 's', 'e', 'i', 's']}}, {'palavra': 'povoeis', 'letras chutadas': {'letras erradas': ['a', 'r', 'c'], 'letras certas': ['p', 'o', 'v', 'o', 'e', 'i', 's']}}, {'palavra': 'instancia', 'letras chutadas': {'letras erradas': ['r', 'd'], 'letras certas': ['i', 'n', 's', 't', 'a', 'n', 'c', 'i', 'a']}}, {'palavra': 'improvisastes', 'letras chutadas': {'letras erradas': [], 'letras certas': ['i', 'm', 'p', 'r', 'o', 'v', 'i', 's', 'a', 's', 't', 'e', 's']}}, {'palavra': 'desabrigardes', 'letras chutadas': {'letras erradas': [], 'letras certas': ['d', 'e', 's', 'a', 'b', 'r', 'i', 'g', 'a', 'r', 'd', 'e', 's']}}, {'palavra': 'recusastes', 'letras chutadas': {'letras erradas': [], 'letras certas': ['r', 'e', 'c', 'u', 's', 'a', 's', 't', 'e', 's']}}, {'palavra': 'desestimulava', 'letras chutadas': {'letras erradas': ['r'], 'letras certas': ['d', 'e', 's', 'e', 's', 't', 'i', 'm', 'u', 'l', 'a', 'v', 'a']}}, {'palavra': 'preestabelecermos', 'letras chutadas': {'letras erradas': ['i', 'd'], 'letras certas': ['p', 'r', 'e', 'e', 's', 't', 'a', 'b', 'e', 'l', 'e', 'c', 'e', 'r', 'm', 'o', 's']}}, {'palavra': 'amarelasse', 'letras chutadas': {'letras erradas': [], 'letras certas': ['a', 'm', 'a', 'r', 'e', 'l', 'a', 's', 's', 'e']}}, {'palavra': 'tecamo', 'letras chutadas': {'letras erradas': ['r', 'i', 'p', 's'], 'letras certas': ['t', 'e', 'c', 'a', 'm', 'o']}}, {'palavra': 'amarravas', 'letras chutadas': {'letras erradas': ['d'], 'letras certas': ['a', 'm', 'a', 'r', 'r', 'a', 'v', 'a', 's']}}, {'palavra': 'relativo', 'letras chutadas': {'letras erradas': ['s', 'm', 'b', 'd'], 'letras certas': ['r', 'e', 'l', 'a', 't', 'i', 'v', 'o']}}, {'palavra': 'procrastinavas', 'letras chutadas': {'letras erradas': [], 'letras certas': ['p', 'r', 'o', 'c', 'r', 'a', 's', 't', 'i', 'n', 'a', 'v', 'a', 's']}}, {'palavra': 'cortejos', 'letras chutadas': {'letras erradas': ['a', 'm'], 'letras certas': ['c', 'o', 'r', 't', 'e', 'j', 'o', 's']}}, {'palavra': 'dadivosa', 'letras chutadas': {'letras erradas': ['r', 'c', 'l'], 'letras certas': ['d', 'a', 'd', 'i', 'v', 'o', 's', 'a']}}, {'palavra': 'arrostes', 'letras chutadas': {'letras erradas': ['i'], 'letras certas': ['a', 'r', 'r', 'o', 's', 't', 'e', 's']}}, {'palavra': 'bastantes', 'letras chutadas': {'letras erradas': [], 'letras certas': ['b', 'a', 's', 't', 'a', 'n', 't', 'e', 's']}}, {'palavra': 'sanes', 'letras chutadas': {'letras erradas': ['b', 'f', 'l'], 'letras certas': ['s', 'a', 'n', 'e', 's']}}, {'palavra': 'enganassem', 'letras chutadas': {'letras erradas': [], 'letras certas': ['e', 'n', 'g', 'a', 'n', 'a', 's', 's', 'e', 'm']}}, {'palavra': 'dissolve', 'letras chutadas': {'letras erradas': ['a', 'r', 't', 'c'], 'letras certas': ['d', 'i', 's', 's', 'o', 'l', 'v', 'e']}}, {'palavra': 'recompilado', 'letras chutadas': {'letras erradas': ['u'], 'letras certas': ['r', 'e', 'c', 'o', 'm', 'p', 'i', 'l', 'a', 'd', 'o']}}, {'palavra': 'barbearao', 'letras chutadas': {'letras erradas': ['m'], 'letras certas': ['b', 'a', 'r', 'b', 'e', 'a', 'r', 'a', 'o']}}, {'palavra': 'redemocratize', 'letras chutadas': {'letras erradas': ['s'], 'letras certas': ['r', 'e', 'd', 'e', 'm', 'o', 'c', 'r', 'a', 't', 'i', 'z', 'e']}}, {'palavra': 'blasfemei', 'letras chutadas': {'letras erradas': ['r'], 'letras certas': ['b', 'l', 'a', 's', 'f', 'e', 'm', 'e', 'i']}}, {'palavra': 'envolveremo', 'letras chutadas': {'letras erradas': ['a', 's', 'c', 'h'], 'letras certas': ['e', 'n', 'v', 'o', 'l', 'v', 'e', 'r', 'e', 'm', 'o']}}, {'palavra': 'posicionar', 'letras chutadas': {'letras erradas': ['e'], 'letras certas': ['p', 'o', 's', 'i', 'c', 'i', 'o', 'n', 'a', 'r']}}, {'palavra': 'encurves', 'letras chutadas': {'letras erradas': ['a', 't'], 'letras certas': ['e', 'n', 'c', 'u', 'r', 'v', 'e', 's']}}, {'palavra': 'onero', 'letras chutadas': {'letras erradas': ['a', 'i'], 'letras certas': ['o', 'n', 'e', 'r', 'o']}}, {'palavra': 'publicacoes', 'letras chutadas': {'letras erradas': ['r', 't', 'd'], 'letras certas': ['p', 'u', 'b', 'l', 'i', 'c', 'a', 'c', 'o', 'e', 's']}}, {'palavra': 'eventuais', 'letras chutadas': {'letras erradas': ['r'], 'letras certas': ['e', 'v', 'e', 'n', 't', 'u', 'a', 'i', 's']}}, {'palavra': 'enunciardes', 'letras chutadas': {'letras erradas': [], 'letras certas': ['e', 'n', 'u', 'n', 'c', 'i', 'a', 'r', 'd', 'e', 's']}}, {'palavra': 'coalescerieis', 'letras chutadas': {'letras erradas': [], 'letras certas': ['c', 'o', 'a', 'l', 'e', 's', 'c', 'e', 'r', 'i', 'e', 'i', 's']}}, {'palavra': 'orlarem', 'letras chutadas': {'letras erradas': ['i', 'c'], 'letras certas': ['o', 'r', 'l', 'a', 'r', 'e', 'm']}}, {'palavra': 'desacostumado', 'letras chutadas': {'letras erradas': [], 'letras certas': ['d', 'e', 's', 'a', 'c', 'o', 's', 't', 'u', 'm', 'a', 'd', 'o']}}, {'palavra': 'gearias', 'letras chutadas': {'letras erradas': ['o', 'c'], 'letras certas': ['g', 'e', 'a', 'r', 'i', 'a', 's']}}, {'palavra': 'costumeiro', 'letras chutadas': {'letras erradas': ['a'], 'letras certas': ['c', 'o', 's', 't', 'u', 'm', 'e', 'i', 'r', 'o']}}, {'palavra': 'imitassemos', 'letras chutadas': {'letras erradas': [], 'letras certas': ['i', 'm', 'i', 't', 'a', 's', 's', 'e', 'm', 'o', 's']}}, {'palavra': 'contive', 'letras chutadas': {'letras erradas': ['a', 's', 'r'], 'letras certas': ['c', 'o', 'n', 't', 'i', 'v', 'e']}}, {'palavra': 'paramentarmos', 'letras chutadas': {'letras erradas': [], 'letras certas': ['p', 'a', 'r', 'a', 'm', 'e', 'n', 't', 'a', 'r', 'm', 'o', 's']}}, {'palavra': 'escrivao', 'letras chutadas': {'letras erradas': ['t', 'b'], 'letras certas': ['e', 's', 'c', 'r', 'i', 'v', 'a', 'o']}}, {'palavra': 'descentralizastes', 'letras chutadas': {'letras erradas': [], 'letras certas': ['d', 'e', 's', 'c', 'e', 'n', 't', 'r', 'a', 'l', 'i', 'z', 'a', 's', 't', 'e', 's']}}, {'palavra': 'dominem', 'letras chutadas': {'letras erradas': ['a', 'r', 's'], 'letras certas': ['d', 'o', 'm', 'i', 'n', 'e', 'm']}}, {'palavra': 'promitentes', 'letras chutadas': {'letras erradas': ['a', 'd'], 'letras certas': ['p', 'r', 'o', 'm', 'i', 't', 'e', 'n', 't', 'e', 's']}}, {'palavra': 'remansamo', 'letras chutadas': {'letras erradas': ['d'], 'letras certas': ['r', 'e', 'm', 'a', 'n', 's', 'a', 'm', 'o']}}, {'palavra': 'desenganares', 'letras chutadas': {'letras erradas': ['o'], 'letras certas': ['d', 'e', 's', 'e', 'n', 'g', 'a', 'n', 'a', 'r', 'e', 's']}}, {'palavra': 'desonrarao', 'letras chutadas': {'letras erradas': ['b'], 'letras certas': ['d', 'e', 's', 'o', 'n', 'r', 'a', 'r', 'a', 'o']}}, {'palavra': 'dessedentando', 'letras chutadas': {'letras erradas': ['r'], 'letras certas': ['d', 'e', 's', 's', 'e', 'd', 'e', 'n', 't', 'a', 'n', 'd', 'o']}}, {'palavra': 'garantieis', 'letras chutadas': {'letras erradas': ['c'], 'letras certas': ['g', 'a', 'r', 'a', 'n', 't', 'i', 'e', 'i', 's']}}, {'palavra': 'expeliriam', 'letras chutadas': {'letras erradas': ['d'], 'letras certas': ['e', 'x', 'p', 'e', 'l', 'i', 'r', 'i', 'a', 'm']}}, {'palavra': 'desbravai', 'letras chutadas': {'letras erradas': ['t'], 'letras certas': ['d', 'e', 's', 'b', 'r', 'a', 'v', 'a', 'i']}}, {'palavra': 'afoitais', 'letras chutadas': {'letras erradas': ['r', 'd', 'c'], 'letras certas': ['a', 'f', 'o', 'i', 't', 'a', 'i', 's']}}, {'palavra': 'datou', 'letras chutadas': {'letras erradas': ['s', 'r', 'c', 'p'], 'letras certas': ['d', 'a', 't', 'o', 'u']}}, {'palavra': 'desodorizamo', 'letras chutadas': {'letras erradas': [], 'letras certas': ['d', 'e', 's', 'o', 'd', 'o', 'r', 'i', 'z', 'a', 'm', 'o']}}, {'palavra': 'desfechareis', 'letras chutadas': {'letras erradas': [], 'letras certas': ['d', 'e', 's', 'f', 'e', 'c', 'h', 'a', 'r', 'e', 'i', 's']}}, {'palavra': 'balanceia', 'letras chutadas': {'letras erradas': [], 'letras certas': ['b', 'a', 'l', 'a', 'n', 'c', 'e', 'i', 'a']}}, {'palavra': 'aventurai', 'letras chutadas': {'letras erradas': ['s', 'o', 'm'], 'letras certas': ['a', 'v', 'e', 'n', 't', 'u', 'r', 'a', 'i']}}, {'palavra': 'pendurariam', 'letras chutadas': {'letras erradas': ['s'], 'letras certas': ['p', 'e', 'n', 'd', 'u', 'r', 'a', 'r', 'i', 'a', 'm']}}, {'palavra': 'defloraremo', 'letras chutadas': {'letras erradas': ['s'], 'letras certas': ['d', 'e', 'f', 'l', 'o', 'r', 'a', 'r', 'e', 'm', 'o']}}, {'palavra': 'agressiva', 'letras chutadas': {'letras erradas': ['d'], 'letras certas': ['a', 'g', 'r', 'e', 's', 's', 'i', 'v', 'a']}}, {'palavra': 'esbarrado', 'letras chutadas': {'letras erradas': [], 'letras certas': ['e', 's', 'b', 'a', 'r', 'r', 'a', 'd', 'o']}}, {'palavra': 'sobrasses', 'letras chutadas': {'letras erradas': ['i', 'l'], 'letras certas': ['s', 'o', 'b', 'r', 'a', 's', 's', 'e', 's']}}, {'palavra': 'chocalharei', 'letras chutadas': {'letras erradas': ['s'], 'letras certas': ['c', 'h', 'o', 'c', 'a', 'l', 'h', 'a', 'r', 'e', 'i']}}, {'palavra': 'entreluzais', 'letras chutadas': {'letras erradas': ['c'], 'letras certas': ['e', 'n', 't', 'r', 'e', 'l', 'u', 'z', 'a', 'i', 's']}}, {'palavra': 'empalideciam', 'letras chutadas': {'letras erradas': ['r', 's'], 'letras certas': ['e', 'm', 'p', 'a', 'l', 'i', 'd', 'e', 'c', 'i', 'a', 'm']}}, {'palavra': 'desaparelhemo', 'letras chutadas': {'letras erradas': ['i'], 'letras certas': ['d', 'e', 's', 'a', 'p', 'a', 'r', 'e', 'l', 'h', 'e', 'm', 'o']}}, {'palavra': 'rasuramo', 'letras chutadas': {'letras erradas': ['d'], 'letras certas': ['r', 'a', 's', 'u', 'r', 'a', 'm', 'o']}}, {'palavra': 'conscientizardes', 'letras chutadas': {'letras erradas': [], 'letras certas': ['c', 'o', 'n', 's', 'c', 'i', 'e', 'n', 't', 'i', 'z', 'a', 'r', 'd', 'e', 's']}}, {'palavra': 'ornamentou', 'letras chutadas': {'letras erradas': ['s'], 'letras certas': ['o', 'r', 'n', 'a', 'm', 'e', 'n', 't', 'o', 'u']}}, {'palavra': 'digerido', 'letras chutadas': {'letras erradas': ['a', 'f'], 'letras certas': ['d', 'i', 'g', 'e', 'r', 'i', 'd', 'o']}}, {'palavra': 'ofuscou', 'letras chutadas': {'letras erradas': ['a', 'e', 'i', 'r'], 'letras certas': ['o', 'f', 'u', 's', 'c', 'o', 'u']}}, {'palavra': 'baguncamo', 'letras chutadas': {'letras erradas': ['i', 'r', 'd'], 'letras certas': ['b', 'a', 'g', 'u', 'n', 'c', 'a', 'm', 'o']}}, {'palavra': 'filamentoso', 'letras chutadas': {'letras erradas': ['r', 'c'], 'letras certas': ['f', 'i', 'l', 'a', 'm', 'e', 'n', 't', 'o', 's', 'o']}}, {'palavra': 'necrosemos', 'letras chutadas': {'letras erradas': ['a'], 'letras certas': ['n', 'e', 'c', 'r', 'o', 's', 'e', 'm', 'o', 's']}}, {'palavra': 'nevasca', 'letras chutadas': {'letras erradas': ['r', 'i', 'd'], 'letras certas': ['n', 'e', 'v', 'a', 's', 'c', 'a']}}, {'palavra': 'cintilasses', 'letras chutadas': {'letras erradas': ['r', 'd'], 'letras certas': ['c', 'i', 'n', 't', 'i', 'l', 'a', 's', 's', 'e', 's']}}, {'palavra': 'elogiai', 'letras chutadas': {'letras erradas': ['r', 's', 'c', 'f'], 'letras certas': ['e', 'l', 'o', 'g', 'i', 'a', 'i']}}, {'palavra': 'acariciaremos', 'letras chutadas': {'letras erradas': [], 'letras certas': ['a', 'c', 'a', 'r', 'i', 'c', 'i', 'a', 'r', 'e', 'm', 'o', 's']}}, {'palavra': 'cocho', 'letras chutadas': {'letras erradas': ['a', 'r'], 'letras certas': ['c', 'o', 'c', 'h', 'o']}}, {'palavra': 'cuspira', 'letras chutadas': {'letras erradas': ['e', 'o'], 'letras certas': ['c', 'u', 's', 'p', 'i', 'r', 'a']}}, {'palavra': 'desembaracariamos', 'letras chutadas': {'letras erradas': [], 'letras certas': ['d', 'e', 's', 'e', 'm', 'b', 'a', 'r', 'a', 'c', 'a', 'r', 'i', 'a', 'm', 'o', 's']}}, {'palavra': 'cumprimentam', 'letras chutadas': {'letras erradas': [], 'letras certas': ['c', 'u', 'm', 'p', 'r', 'i', 'm', 'e', 'n', 't', 'a', 'm']}}, {'palavra': 'andamento', 'letras chutadas': {'letras erradas': ['r', 's'], 'letras certas': ['a', 'n', 'd', 'a', 'm', 'e', 'n', 't', 'o']}}, {'palavra': 'empocais', 'letras chutadas': {'letras erradas': ['r', 'b'], 'letras certas': ['e', 'm', 'p', 'o', 'c', 'a', 'i', 's']}}], 'palavras erradas': [{'palavra': 'rebaixar', 'letras chutadas': {'letras erradas': ['c', 's', 't', 'l', 'm'], 'letras certas': ['r', 'e', '', 'a', '', '', 'a', 'r']}}, {'palavra': 'inflamavas', 'letras chutadas': {'letras erradas': ['r', 'd', 'e', 'c', 't'], 'letras certas': ['', '', '', '', 'a', '', 'a', 'v', 'a', 's']}}, {'palavra': 'quociente', 'letras chutadas': {'letras erradas': ['a', 's', 'r', 'm', 'f'], 'letras certas': ['', '', '', 'c', 'i', 'e', 'n', 't', 'e']}}, {'palavra': 'vosso', 'letras chutadas': {'letras erradas': ['a', 'r', 'c', 'f', 'n'], 'letras certas': ['', 'o', 's', 's', 'o']}}, {'palavra': 'agiotarei', 'letras chutadas': {'letras erradas': ['l', 'n', 'c', 's', 'v'], 'letras certas': ['a', '', 'i', '', 't', 'a', 'r', 'e', 'i']}}, {'palavra': 'niponico', 'letras chutadas': {'letras erradas': ['a', 'e', 'r', 's', 'm'], 'letras certas': ['', 'i', '', '', '', 'i', '', '']}}, {'palavra': 'burlaram', 'letras chutadas': {'letras erradas': ['o', 's', 'e', 'c', 'f'], 'letras certas': ['', '', 'r', '', 'a', 'r', 'a', 'm']}}, {'palavra': 'posem', 'letras chutadas': {'letras erradas': ['a', 't', 'c', 'i', 'd'], 'letras certas': ['', 'o', 's', 'e', 'm']}}, {'palavra': 'caviarmo', 'letras chutadas': {'letras erradas': ['s', 'l', 'n', 't', 'h'], 'letras certas': ['c', 'a', '', '', 'a', 'r', 'm', 'o']}}, {'palavra': 'pontuo', 'letras chutadas': {'letras erradas': ['a', 'e', 'm', 'c', 'd'], 'letras certas': ['', 'o', '', '', '', 'o']}}]}\n"
     ]
    }
   ],
   "source": [
    "print(jogar_forca(100))"
   ]
  }
 ],
 "metadata": {
  "kernelspec": {
   "display_name": "Python 3",
   "language": "python",
   "name": "python3"
  },
  "language_info": {
   "codemirror_mode": {
    "name": "ipython",
    "version": 3
   },
   "file_extension": ".py",
   "mimetype": "text/x-python",
   "name": "python",
   "nbconvert_exporter": "python",
   "pygments_lexer": "ipython3",
   "version": "3.9.10"
  },
  "orig_nbformat": 4
 },
 "nbformat": 4,
 "nbformat_minor": 2
}
