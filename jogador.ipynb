{
 "cells": [
  {
   "cell_type": "code",
   "execution_count": 34,
   "metadata": {},
   "outputs": [],
   "source": [
    "import pandas as pd\n",
    "import random\n",
    "from copy import deepcopy\n",
    "from scipy.linalg import svd, diagsvd\n",
    "import numpy as np\n",
    "import matplotlib.pyplot as plt\n",
    "from sklearn.model_selection import train_test_split\n",
    "from sklearn.tree import plot_tree, DecisionTreeClassifier\n",
    "from sklearn.metrics import accuracy_score\n",
    "from jogador_forca import JogoDeForca\n",
    "import string\n",
    "from pprint import pprint"
   ]
  },
  {
   "cell_type": "code",
   "execution_count": 55,
   "metadata": {},
   "outputs": [],
   "source": [
    "jogo = JogoDeForca()"
   ]
  },
  {
   "cell_type": "code",
   "execution_count": 155,
   "metadata": {},
   "outputs": [],
   "source": [
    "def huffman_tree(texto : str):\n",
    "    \"\"\"Monta a arvore de codificacao usando o algoritmo de huffman\"\"\"\n",
    "    def get_prob(item):\n",
    "        return item['prob']\n",
    "\n",
    "    f = []\n",
    "\n",
    "    # Calcula probabilidade de cada caractere  \n",
    "    texto = \"\".join(texto)\n",
    "    for c in string.ascii_lowercase:\n",
    "        f.append(  {'prob':texto.count(c)/len(texto), 'valor':c} )\n",
    "\n",
    "    return f\n",
    "\n",
    "result = huffman_tree(jogo.content)\n",
    "result.sort(reverse=True, key=lambda x: x['prob'])"
   ]
  },
  {
   "cell_type": "code",
   "execution_count": 181,
   "metadata": {},
   "outputs": [],
   "source": [
    "def match_pattern(lst, s):\n",
    "    if len(lst) != len(s):\n",
    "        return False\n",
    "    for i, char in enumerate(lst):\n",
    "        if char != \"\" and char != s[i]:\n",
    "            return False\n",
    "    return True"
   ]
  },
  {
   "cell_type": "code",
   "execution_count": 200,
   "metadata": {},
   "outputs": [
    {
     "name": "stdout",
     "output_type": "stream",
     "text": [
      "Ganhou!\n",
      "Ganhou!\n",
      "Ganhou!\n",
      "Ganhou!\n",
      "Ganhou!\n",
      "Ganhou!\n",
      "Ganhou!\n",
      "Ganhou!\n",
      "Ganhou!\n",
      "Ganhou!\n",
      "Ganhou!\n",
      "Ganhou!\n",
      "Ganhou!\n",
      "Ganhou!\n",
      "Ganhou!\n",
      "Ganhou!\n",
      "Ganhou!\n",
      "Ganhou!\n",
      "Ganhou!\n",
      "Ganhou!\n",
      "Ganhou!\n",
      "Ganhou!\n",
      "Ganhou!\n",
      "Ganhou!\n",
      "Ganhou!\n",
      "Ganhou!\n",
      "Ganhou!\n",
      "27\n"
     ]
    }
   ],
   "source": [
    "erros = 0\n",
    "acertos = 0\n",
    "for i in range(100):\n",
    "    jogo.novo_jogo()\n",
    "    letras = ['' for _ in range(len(jogo.palavra))]\n",
    "    acabou = False\n",
    "    result_c = False\n",
    "\n",
    "    ja_tentou = []\n",
    "    while not acabou:\n",
    "        if not result_c:\n",
    "            if len(ja_tentou) == 0:\n",
    "                texto = [i for i in jogo.content if len(i) == len(jogo.palavra)]\n",
    "                result_c = huffman_tree(texto)\n",
    "                result_c.sort(reverse=True, key=lambda x: x['prob'])\n",
    "            else:\n",
    "                texto = [i for i in texto if match_pattern(letras, i)]\n",
    "                result_c = huffman_tree(texto)\n",
    "                result_c.sort(reverse=True, key=lambda x: x['prob'])\n",
    "                    \n",
    "        for h in result_c:\n",
    "            if h['valor'] not in ja_tentou:\n",
    "                ja_tentou.append(h['valor'])\n",
    "                r = jogo.tentar_letra(h['valor'])\n",
    "                \n",
    "                if not r:\n",
    "                    erros += 1\n",
    "                    acabou = True\n",
    "                else:\n",
    "                    if len(r) > 0:\n",
    "                        for j in range(len(r)):\n",
    "                            letras[r[j]] = h['valor']\n",
    "                        result_c = False\n",
    "                break\n",
    "        \n",
    "        if '' not in letras:\n",
    "            x = jogo.tentar_palavra(\"\".join(letras))\n",
    "            if x:\n",
    "                acertos += 1\n",
    "            else:\n",
    "                acertos += 1\n",
    "            acabou = True\n",
    "\n",
    "\n",
    "print(acertos)\n"
   ]
  }
 ],
 "metadata": {
  "kernelspec": {
   "display_name": "Python 3",
   "language": "python",
   "name": "python3"
  },
  "language_info": {
   "codemirror_mode": {
    "name": "ipython",
    "version": 3
   },
   "file_extension": ".py",
   "mimetype": "text/x-python",
   "name": "python",
   "nbconvert_exporter": "python",
   "pygments_lexer": "ipython3",
   "version": "3.9.10"
  },
  "orig_nbformat": 4
 },
 "nbformat": 4,
 "nbformat_minor": 2
}
